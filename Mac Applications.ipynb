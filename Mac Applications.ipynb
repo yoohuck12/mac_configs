{
 "cells": [
  {
   "cell_type": "markdown",
   "metadata": {},
   "source": [
    "# Mac applications"
   ]
  },
  {
   "cell_type": "markdown",
   "metadata": {},
   "source": [
    "## Mouse pointer\n",
    "[here](https://macnews.tistory.com/3331)\n",
    "[커서효과](https://apps.apple.com/kr/app/%EC%BB%A4%EC%84%9C-%ED%9A%A8%EA%B3%BC/id1253943369?mt=12)"
   ]
  },
  {
   "cell_type": "markdown",
   "metadata": {},
   "source": [
    "## Copy and paste\n",
    "[Paste - clipboard manager](https://apps.apple.com/kr/app/paste-clipboard-manager/id967805235?mt=12)"
   ]
  },
  {
   "cell_type": "markdown",
   "metadata": {},
   "source": [
    "## Screen mask\n",
    "\n",
    "[Masquerade](https://apps.apple.com/kr/app/masquerade/id907165103?mt=12)\n"
   ]
  },
  {
   "cell_type": "code",
   "execution_count": null,
   "metadata": {},
   "outputs": [],
   "source": []
  }
 ],
 "metadata": {
  "kernelspec": {
   "display_name": "Python 3",
   "language": "python",
   "name": "python3"
  },
  "language_info": {
   "codemirror_mode": {
    "name": "ipython",
    "version": 3
   },
   "file_extension": ".py",
   "mimetype": "text/x-python",
   "name": "python",
   "nbconvert_exporter": "python",
   "pygments_lexer": "ipython3",
   "version": "3.6.8"
  }
 },
 "nbformat": 4,
 "nbformat_minor": 4
}
